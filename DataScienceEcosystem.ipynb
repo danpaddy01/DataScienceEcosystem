{
 "cells": [
  {
   "cell_type": "code",
   "execution_count": null,
   "id": "dba3b939-2fa4-4660-a896-087f7a3267d9",
   "metadata": {},
   "outputs": [],
   "source": []
  },
  {
   "cell_type": "markdown",
   "id": "ad7094f6-b888-4400-bb1e-66b77871c25b",
   "metadata": {},
   "source": [
    "# Title of notebook: DataScienceEcosystem"
   ]
  },
  {
   "cell_type": "markdown",
   "id": "d86f1e40-842b-4b9c-9475-6babea8b44cf",
   "metadata": {},
   "source": [
    "## Introduction: In this notebook, Data Science Tools and Ecosystem are summarized."
   ]
  },
  {
   "cell_type": "markdown",
   "id": "ad7c5e15-5c15-4fab-b4de-a81ca7f7a688",
   "metadata": {},
   "source": [
    "## List of some popular programming languages: \n",
    "1. python\n",
    "2. R\n",
    "3. Julia\n"
   ]
  },
  {
   "cell_type": "markdown",
   "id": "7d87b3ce-3696-4d0c-96c5-2006e19bfaa1",
   "metadata": {},
   "source": [
    "## List of some data science libraries: \n",
    "1. pandas\n",
    "2. numpy\n",
    "3. matplotlib\n"
   ]
  },
  {
   "cell_type": "markdown",
   "id": "cc05a06d-20fe-4511-9cd4-b3b7bbf32881",
   "metadata": {},
   "source": [
    "| Data Science Tools| \n",
    "| ------------------| \n",
    "| VS code           | \n",
    "| Budibase          | \n",
    "| Vercel            | \n"
   ]
  },
  {
   "cell_type": "markdown",
   "id": "c08d15ff-be61-4dd0-9505-9680fecab1ed",
   "metadata": {},
   "source": [
    "### Some examples of arithmetic expression: \n",
    "1. addition of a to b results in value c: a+b=c\n",
    "2. substraction of b from a results in value d: a-b=d\n",
    "3. multiplication of a and b results in value e: a*b=e\n"
   ]
  },
  {
   "cell_type": "markdown",
   "id": "1f5d5847-957f-4a1f-898d-e580b6369b6d",
   "metadata": {},
   "source": [
    "## This an arithmetic expression to multiply then add integers, which results in value 17\n"
   ]
  },
  {
   "cell_type": "code",
   "execution_count": 13,
   "id": "e0319c5b-b97f-4e65-8f11-c22abeb34f09",
   "metadata": {},
   "outputs": [
    {
     "data": {
      "text/plain": [
       "17"
      ]
     },
     "execution_count": 13,
     "metadata": {},
     "output_type": "execute_result"
    }
   ],
   "source": [
    "(3*4)+5"
   ]
  },
  {
   "cell_type": "markdown",
   "id": "5d6b22ad-4edc-4a7f-b7d3-6f246c06fa92",
   "metadata": {},
   "source": [
    "## This will convert 200 minutes to hours by diving by the minutes by 60, which results in 3.33 hours"
   ]
  },
  {
   "cell_type": "code",
   "execution_count": 14,
   "id": "c94d5d08-97b8-4471-a9b9-44da5325602f",
   "metadata": {},
   "outputs": [
    {
     "data": {
      "text/plain": [
       "3.3333333333333335"
      ]
     },
     "execution_count": 14,
     "metadata": {},
     "output_type": "execute_result"
    }
   ],
   "source": [
    "200/60"
   ]
  },
  {
   "cell_type": "markdown",
   "id": "9229409f-d2fa-4f60-a1a6-d884d99e6c1c",
   "metadata": {},
   "source": [
    "## Objectives:\n",
    "* Introduction\n",
    "* List data science languages\n",
    "* List data science libraries\n",
    "* Table of Data Science tools\n"
   ]
  },
  {
   "cell_type": "markdown",
   "id": "58a4cc89-dc00-48ab-a481-2528be2d22c0",
   "metadata": {},
   "source": [
    "## Author\n",
    "A. Danen Padiachy\n"
   ]
  },
  {
   "cell_type": "code",
   "execution_count": null,
   "id": "40f29352-90d7-4c2b-a0ef-fa65151b8332",
   "metadata": {},
   "outputs": [],
   "source": []
  }
 ],
 "metadata": {
  "kernelspec": {
   "display_name": "Python",
   "language": "python",
   "name": "conda-env-python-py"
  },
  "language_info": {
   "codemirror_mode": {
    "name": "ipython",
    "version": 3
   },
   "file_extension": ".py",
   "mimetype": "text/x-python",
   "name": "python",
   "nbconvert_exporter": "python",
   "pygments_lexer": "ipython3",
   "version": "3.7.12"
  }
 },
 "nbformat": 4,
 "nbformat_minor": 5
}
